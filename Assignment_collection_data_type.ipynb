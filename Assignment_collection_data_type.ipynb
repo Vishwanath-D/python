{
  "nbformat": 4,
  "nbformat_minor": 0,
  "metadata": {
    "colab": {
      "name": "Assignment collection data type.ipynb",
      "provenance": []
    },
    "kernelspec": {
      "name": "python3",
      "display_name": "Python 3"
    },
    "language_info": {
      "name": "python"
    }
  },
  "cells": [
    {
      "cell_type": "code",
      "execution_count": null,
      "metadata": {
        "colab": {
          "base_uri": "https://localhost:8080/"
        },
        "id": "RB1B5ABKXH4t",
        "outputId": "867fc7a4-1a1b-41b3-c70b-959a16050488"
      },
      "outputs": [
        {
          "output_type": "stream",
          "name": "stdout",
          "text": [
            "5\n",
            "5\n",
            "4\n",
            "2\n"
          ]
        }
      ],
      "source": [
        "# length of the fallowing\n",
        "Mydata1 = [\"Mango\", True, 7, 8, 9]\n",
        "print(len(Mydata1))\n",
        "Mydata2 = [1, 5, 7, 9, 3]\n",
        "print(len(Mydata2))\n",
        "Mydata3 = (\"Mango\", 700, 1000, \"Banana\")\n",
        "print(len(Mydata3))\n",
        "Mydata4 = {True, False, False}\n",
        "print(len(Mydata4))\n"
      ]
    },
    {
      "cell_type": "code",
      "source": [
        "#Create and print a list containing 4 elements of different data types and check the length of the list.\n",
        "a=[\"mango\",True,700,1]\n",
        "print(len(a))\n"
      ],
      "metadata": {
        "colab": {
          "base_uri": "https://localhost:8080/"
        },
        "id": "dyd8NR92Zyr0",
        "outputId": "1efdcab8-74d4-418d-d73e-d73d641715c3"
      },
      "execution_count": null,
      "outputs": [
        {
          "output_type": "stream",
          "name": "stdout",
          "text": [
            "4\n"
          ]
        }
      ]
    },
    {
      "cell_type": "code",
      "source": [
        "#Create & print a dictionary conataining the following values:\n",
        "#\"Employee id\": \"100041\",\n",
        "#\"Employee name\": \"Rohan\",\n",
        "#\"Country\": \"India\"\n",
        "thisdict={\n",
        "    \"Employee id\": \"100041\",\n",
        "\"Employee name\": \"Rohan\",\n",
        "\"Country\": \"India\"\n",
        "}\n",
        "print(thisdict)"
      ],
      "metadata": {
        "colab": {
          "base_uri": "https://localhost:8080/"
        },
        "id": "bqTofc7Rap_N",
        "outputId": "bfe69b54-1d6e-46d8-c2ae-3588901a9dc4"
      },
      "execution_count": null,
      "outputs": [
        {
          "output_type": "stream",
          "name": "stdout",
          "text": [
            "{'Employee id': '100041', 'Employee name': 'Rohan', 'Country': 'India'}\n"
          ]
        }
      ]
    },
    {
      "cell_type": "markdown",
      "source": [
        "What is the difference between\n",
        "\n",
        "1: **List and tuple**\n",
        "\n",
        "   **List **: lists are mutable ,The list is better for performing operations, such as insertion and deletion ,Lists consume more memory,Lists have several built-in methods,we can represent set by []\n",
        "\n",
        "   **Tuple:**Tuples are immutable,Tuple data type is appropriate for accessing the elements,Tuple consume less memory as compared to the list,Tuple does not have many built-in methods.e can represent tuple by ()\n",
        "\n",
        "2:** Set and dictionary **\n",
        "\n",
        "   **Set** Sets are used to store multiple items in a single variable.\n",
        "Set is one of 4 built-in data types in Python used to store collections of data, the other 3 are List, Tuple, and Dictionary, all with different qualities and usage.\n",
        "\n",
        "**Dictionary**:Dictionary Dictionaries are used to store data values in key:value pairs.\n",
        "A dictionary is a collection which is ordered*, changeable and do not allow duplicates. Dictionaries are written with curly brackets, and have keys and values\n",
        "Dictionary Items Dictionary items are ordered, changeable, and does not allow duplicates.\n",
        "A set is a collection which is unordered, unchangeable, and unindexed.\n",
        "  \n",
        "3: **List and set**\n",
        "\n",
        "  ** List:**lists are mutable ,The list is better for performing operations, such as insertion and deletion ,Lists consume more memory,Lists have several built-in methods,we can represent set by []\n",
        "\n",
        "   **set**:Set Sets are used to store multiple items in a single variable.\n",
        "Set is one of 4 built-in data types in Python used to store collections of data, the other 3 are List, Tuple, and Dictionary, all with different qualities and usage.\n",
        "\n"
      ],
      "metadata": {
        "id": "bEO1sdd4bxXD"
      }
    }
  ]
}
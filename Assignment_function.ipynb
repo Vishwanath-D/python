{
  "nbformat": 4,
  "nbformat_minor": 0,
  "metadata": {
    "colab": {
      "name": "Assignment function.ipynb",
      "provenance": []
    },
    "kernelspec": {
      "name": "python3",
      "display_name": "Python 3"
    },
    "language_info": {
      "name": "python"
    }
  },
  "cells": [
    {
      "cell_type": "code",
      "execution_count": null,
      "metadata": {
        "colab": {
          "base_uri": "https://localhost:8080/"
        },
        "id": "yMmuVa8rpOop",
        "outputId": "c536df25-c5b3-4587-e4fb-c33260c2862a"
      },
      "outputs": [
        {
          "output_type": "stream",
          "name": "stdout",
          "text": [
            "Hello\n"
          ]
        }
      ],
      "source": [
        "# Create a function with the name - Myname an print your name inside the funtion\n",
        "def my_name():\n",
        " print(\"Hello\")\n",
        " # Function call\n",
        " def my_name():\n",
        "  print(\"Hello\")\n",
        "\n",
        "my_name()"
      ]
    },
    {
      "cell_type": "code",
      "source": [
        "# Difference Between Parameter & Argument\n",
        "#A parameter is the variable listed inside the parentheses in the function definition.\n",
        "\n",
        "#An argument is the value that is sent to the function when it is called."
      ],
      "metadata": {
        "id": "JRmhYms7qNlB"
      },
      "execution_count": null,
      "outputs": []
    },
    {
      "cell_type": "code",
      "source": [
        "# Creat a function with the name Myfunction \n",
        "# pass 2 parameters city & state\n",
        "# pass 2 arguments your city & state name \n",
        "def my_function(city, state):\n",
        "  print(city + \" , \" + state)\n",
        "\n",
        "my_function(\"bijapur\", \"karnataka\")"
      ],
      "metadata": {
        "colab": {
          "base_uri": "https://localhost:8080/"
        },
        "id": "dHx9G54YqqKe",
        "outputId": "b6e2aa87-4c62-4c12-a8cc-fe94c08c9350"
      },
      "execution_count": null,
      "outputs": [
        {
          "output_type": "stream",
          "name": "stdout",
          "text": [
            "bijapur , karnataka\n"
          ]
        }
      ]
    }
  ]
}
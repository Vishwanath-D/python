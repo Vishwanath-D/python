{
  "nbformat": 4,
  "nbformat_minor": 0,
  "metadata": {
    "colab": {
      "name": "Assignment loops .ipynb",
      "provenance": []
    },
    "kernelspec": {
      "name": "python3",
      "display_name": "Python 3"
    },
    "language_info": {
      "name": "python"
    }
  },
  "cells": [
    {
      "cell_type": "code",
      "execution_count": null,
      "metadata": {
        "id": "7n--O1dcD6O2"
      },
      "outputs": [],
      "source": [
        ""
      ]
    },
    {
      "cell_type": "markdown",
      "source": [
        "1. Print \"Hello Netzwerk Academy\" if a is greater than b."
      ],
      "metadata": {
        "id": "clCYmxaWIA6I"
      }
    },
    {
      "cell_type": "code",
      "source": [
        "a=1\n",
        "b=0\n",
        "if a> b:\n",
        "  print(\"hello netxwerk academy\")"
      ],
      "metadata": {
        "colab": {
          "base_uri": "https://localhost:8080/"
        },
        "id": "T2w2Y_-tIHAj",
        "outputId": "1c28ec20-4fcd-4cfc-d27b-54ec22d915d9"
      },
      "execution_count": 1,
      "outputs": [
        {
          "output_type": "stream",
          "name": "stdout",
          "text": [
            "hello netxwerk academy\n"
          ]
        }
      ]
    },
    {
      "cell_type": "markdown",
      "source": [
        "2. Print \"Hello Netzwerk Academy\" if a is not equal to b."
      ],
      "metadata": {
        "id": "-r1iO1hGIi3z"
      }
    },
    {
      "cell_type": "code",
      "source": [
        "a=1\n",
        "b=0\n",
        "if b > a:\n",
        " print(\"b greter than a\")\n",
        "elif a == b:\n",
        " print(\"a equalto b\")\n",
        "else:\n",
        "  print(\"hello netzerk academy\")"
      ],
      "metadata": {
        "colab": {
          "base_uri": "https://localhost:8080/"
        },
        "id": "7PB449GvIqFa",
        "outputId": "18f29003-0dcb-4ff8-c47d-fef36b46ccfb"
      },
      "execution_count": 7,
      "outputs": [
        {
          "output_type": "stream",
          "name": "stdout",
          "text": [
            "hello netzerk academy\n"
          ]
        }
      ]
    },
    {
      "cell_type": "markdown",
      "source": [
        "3. Print \"Yes\" if a is equal to b, otherwise print \"No\"."
      ],
      "metadata": {
        "id": "D3nNIG3fO6Da"
      }
    },
    {
      "cell_type": "code",
      "source": [
        "a=1\n",
        "b=1\n",
        "if a > b:\n",
        "  print (\"a is greater than b\")\n",
        "else:\n",
        "  print (\"yes\")\n",
        "    \n"
      ],
      "metadata": {
        "colab": {
          "base_uri": "https://localhost:8080/"
        },
        "id": "7rDh9MuZO_Oj",
        "outputId": "d8ede5d2-c1c8-4e2f-a610-b95219998bab"
      },
      "execution_count": 14,
      "outputs": [
        {
          "output_type": "stream",
          "name": "stdout",
          "text": [
            "yes\n"
          ]
        }
      ]
    },
    {
      "cell_type": "markdown",
      "source": [
        "4. Print \"1\" if a is equal to b, print \"2\" if a is greater than b, otherwise print \"3\"."
      ],
      "metadata": {
        "id": "lwhbiLNlQiLl"
      }
    },
    {
      "cell_type": "code",
      "source": [
        "a=1\n",
        "b=2\n",
        "if a > b:\n",
        "  print (\"2\")\n",
        "elif a == b:\n",
        "  print(\"1\")\n",
        "else :\n",
        "  print(\"3\")"
      ],
      "metadata": {
        "colab": {
          "base_uri": "https://localhost:8080/"
        },
        "id": "4Rc69HGEQugC",
        "outputId": "e4c9a45d-53bb-4945-a9d0-87b7ba3d36c9"
      },
      "execution_count": 20,
      "outputs": [
        {
          "output_type": "stream",
          "name": "stdout",
          "text": [
            "3\n"
          ]
        }
      ]
    },
    {
      "cell_type": "markdown",
      "source": [
        "5. Print \"Hello\" if a is equal to b, and c is equal to d."
      ],
      "metadata": {
        "id": "hcno8Du_Rp4-"
      }
    },
    {
      "cell_type": "code",
      "source": [
        "a = 5\n",
        "b = 5\n",
        "c = 6\n",
        "d = 6\n",
        "if a == b and c == d: \n",
        " print (\"hello\")"
      ],
      "metadata": {
        "colab": {
          "base_uri": "https://localhost:8080/"
        },
        "id": "GXURtwFNRuKO",
        "outputId": "4ac2c377-76ac-46f3-d6ae-c04f26dc252f"
      },
      "execution_count": 6,
      "outputs": [
        {
          "output_type": "stream",
          "name": "stdout",
          "text": [
            "hello\n"
          ]
        }
      ]
    },
    {
      "cell_type": "markdown",
      "source": [
        "6. Print \"Hello\" if a is equal to b, or if c is equal to d."
      ],
      "metadata": {
        "id": "j_geSOWHU3Dt"
      }
    },
    {
      "cell_type": "code",
      "source": [
        "a = 5\n",
        "b = 5\n",
        "c = 6\n",
        "d = 6\n",
        "if a == b or c == d: \n",
        " print (\"hello\")"
      ],
      "metadata": {
        "colab": {
          "base_uri": "https://localhost:8080/"
        },
        "id": "ERGcUcsQVJk_",
        "outputId": "f04e6807-cad3-4b48-a6c2-e22dd17f794f"
      },
      "execution_count": 7,
      "outputs": [
        {
          "output_type": "stream",
          "name": "stdout",
          "text": [
            "hello\n"
          ]
        }
      ]
    },
    {
      "cell_type": "markdown",
      "source": [
        "7. Print i as long as i is less than 8."
      ],
      "metadata": {
        "id": "msPPysgqVNxv"
      }
    },
    {
      "cell_type": "code",
      "source": [
        "i = 1\n",
        "while i < 8:\n",
        "  print(i)\n",
        "  i += 1"
      ],
      "metadata": {
        "colab": {
          "base_uri": "https://localhost:8080/"
        },
        "id": "8jDt0ZdYVXl6",
        "outputId": "8e1875c5-c578-40c5-b279-e626c093f36a"
      },
      "execution_count": 10,
      "outputs": [
        {
          "output_type": "stream",
          "name": "stdout",
          "text": [
            "1\n",
            "2\n",
            "3\n",
            "4\n",
            "5\n",
            "6\n",
            "7\n"
          ]
        }
      ]
    },
    {
      "cell_type": "markdown",
      "source": [
        "8. Loop through the items in the fruits list.\n",
        " fruits = [\"apple\", \"banana\", \"mango\"]"
      ],
      "metadata": {
        "id": "LR2VadDMWD1e"
      }
    },
    {
      "cell_type": "code",
      "source": [
        "fruits = [\"apple\", \"banana\", \"mango\"]\n",
        "for x in fruits:\n",
        "  print(x)"
      ],
      "metadata": {
        "colab": {
          "base_uri": "https://localhost:8080/"
        },
        "id": "gZh68HFWWKE4",
        "outputId": "395bd7c5-1b51-47c3-f103-49926ff8a734"
      },
      "execution_count": 11,
      "outputs": [
        {
          "output_type": "stream",
          "name": "stdout",
          "text": [
            "apple\n",
            "banana\n",
            "mango\n"
          ]
        }
      ]
    },
    {
      "cell_type": "markdown",
      "source": [
        "9. In the loop, when the item value is \"banana\", jump directly to the next item.\n",
        "fruits = [\"apple\", \"banana\", \"mango\"]"
      ],
      "metadata": {
        "id": "CCAnrvnEWp8i"
      }
    },
    {
      "cell_type": "code",
      "source": [
        "fruits = [\"apple\", \"banana\", \"mango\"]\n",
        "for x in fruits:\n",
        "  if x == \"banana\": \n",
        "   continue\n",
        "  print(x)"
      ],
      "metadata": {
        "colab": {
          "base_uri": "https://localhost:8080/"
        },
        "id": "4an79i6IQmli",
        "outputId": "76d79fda-b503-470b-c84e-1f139f771c2a"
      },
      "execution_count": 18,
      "outputs": [
        {
          "output_type": "stream",
          "name": "stdout",
          "text": [
            "apple\n",
            "mango\n"
          ]
        }
      ]
    },
    {
      "cell_type": "markdown",
      "source": [
        "10. Exit the loop when x is \"banana\".\n",
        "fruits = [\"apple\", \"banana\", \"mango\"]\n"
      ],
      "metadata": {
        "id": "ZNp06vEuXD0g"
      }
    },
    {
      "cell_type": "code",
      "source": [
        "fruits = [\"apple\", \"banana\", \"mango\"]\n",
        "for x in fruits:\n",
        "  if x == \"banana\":  \n",
        "   break\n",
        "  print(x)"
      ],
      "metadata": {
        "colab": {
          "base_uri": "https://localhost:8080/"
        },
        "id": "V-oDmxtAXWCP",
        "outputId": "84449e4b-aa75-41db-f4aa-a6b2951b42a6"
      },
      "execution_count": 19,
      "outputs": [
        {
          "output_type": "stream",
          "name": "stdout",
          "text": [
            "apple\n"
          ]
        }
      ]
    },
    {
      "cell_type": "code",
      "source": [
        ""
      ],
      "metadata": {
        "id": "6zNFZnG4InYD"
      },
      "execution_count": null,
      "outputs": []
    }
  ]
}
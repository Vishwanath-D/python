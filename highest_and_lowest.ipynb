{
  "nbformat": 4,
  "nbformat_minor": 0,
  "metadata": {
    "colab": {
      "name": "highest and lowest.ipynb",
      "provenance": []
    },
    "kernelspec": {
      "name": "python3",
      "display_name": "Python 3"
    },
    "language_info": {
      "name": "python"
    }
  },
  "cells": [
    {
      "cell_type": "markdown",
      "source": [
        "**Highest and lowest of two numbers**"
      ],
      "metadata": {
        "id": "bYi3C1yAT0kN"
      }
    },
    {
      "cell_type": "code",
      "source": [
        "a=int(input('Enter 2 nos.: '))\n",
        "b=int(input())\n",
        "high=0\n",
        "\n",
        "if(a>b):\n",
        "    high=a\n",
        "else:\n",
        "    high=b\n",
        "    \n",
        "print (\"Highest no. is:\",high)"
      ],
      "metadata": {
        "colab": {
          "base_uri": "https://localhost:8080/"
        },
        "id": "NFYStr1aT3Pb",
        "outputId": "784879ac-9842-406c-aa3f-7991101af5d6"
      },
      "execution_count": 2,
      "outputs": [
        {
          "output_type": "stream",
          "name": "stdout",
          "text": [
            "Enter 2 nos.: 11\n",
            "10\n",
            "Highest no. is: 11\n"
          ]
        }
      ]
    },
    {
      "cell_type": "code",
      "source": [
        "#wap to disp. lowest of given 2 nos.\n",
        "\n",
        "a=int(input('Enter 2 nos.: '))\n",
        "b=int(input())\n",
        "low=0\n",
        "if(a<b):\n",
        "    low=a\n",
        "else:\n",
        "    low=b\n",
        "print ('Lowest of 2 nos. is: ',low)"
      ],
      "metadata": {
        "colab": {
          "base_uri": "https://localhost:8080/"
        },
        "id": "RvzbGrFVUWyP",
        "outputId": "a7625048-2d04-40fa-e511-a082e821663a"
      },
      "execution_count": 3,
      "outputs": [
        {
          "output_type": "stream",
          "name": "stdout",
          "text": [
            "Enter 2 nos.: 123\n",
            "456\n",
            "Lowest of 2 nos. is:  123\n"
          ]
        }
      ]
    },
    {
      "cell_type": "markdown",
      "source": [
        "**wap for highest and lowest of 2 given nos.**"
      ],
      "metadata": {
        "id": "9hCHjyyBUfoP"
      }
    },
    {
      "cell_type": "code",
      "source": [
        "a=int(input('Enter 2 nos.: '))\n",
        "b=int(input())\n",
        "h=0\n",
        "l=0\n",
        "\n",
        "if(a>b):\n",
        "    h=a\n",
        "    l=b\n",
        "else:\n",
        "    h=b\n",
        "    l=a\n",
        "print ('Highest num is: ',h)\n",
        "print('Lowest num is: ',l)\n",
        "    "
      ],
      "metadata": {
        "colab": {
          "base_uri": "https://localhost:8080/"
        },
        "id": "IOXy_khGUjZf",
        "outputId": "20c5f9eb-c6b0-43ea-bd6b-3aba7e873b41"
      },
      "execution_count": 4,
      "outputs": [
        {
          "output_type": "stream",
          "name": "stdout",
          "text": [
            "Enter 2 nos.: 10000\n",
            "0123\n",
            "Highest num is:  10000\n",
            "Lowest num is:  123\n"
          ]
        }
      ]
    }
  ]
}
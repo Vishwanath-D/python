{
  "nbformat": 4,
  "nbformat_minor": 0,
  "metadata": {
    "colab": {
      "name": "python assignment intro& basic .ipynb",
      "provenance": []
    },
    "kernelspec": {
      "name": "python3",
      "display_name": "Python 3"
    },
    "language_info": {
      "name": "python"
    }
  },
  "cells": [
    {
      "cell_type": "code",
      "execution_count": 15,
      "metadata": {
        "id": "Qm-ETYfINrDt",
        "colab": {
          "base_uri": "https://localhost:8080/"
        },
        "outputId": "e4cb7262-198f-4a5e-a791-37bd05928ada"
      },
      "outputs": [
        {
          "output_type": "stream",
          "name": "stdout",
          "text": [
            "5 is greater than 2\n"
          ]
        }
      ],
      "source": [
        "#1\n",
        "#indentation\n",
        "5\n",
        "2\n",
        "if 5> 2:\n",
        "  print(\"5 is greater than 2\")"
      ]
    },
    {
      "cell_type": "code",
      "source": [
        "#2\n",
        "x=\"volvo\"\n",
        "print(\"car name = \"+x)"
      ],
      "metadata": {
        "colab": {
          "base_uri": "https://localhost:8080/"
        },
        "id": "5t0wbttpBs6-",
        "outputId": "b7fe1a6b-474c-48d9-e0d4-0df57ba45732"
      },
      "execution_count": 18,
      "outputs": [
        {
          "output_type": "stream",
          "name": "stdout",
          "text": [
            "car name = volvo\n"
          ]
        }
      ]
    },
    {
      "cell_type": "code",
      "source": [
        "#3\n",
        "x = int(50)\n",
        "print(x)\n"
      ],
      "metadata": {
        "colab": {
          "base_uri": "https://localhost:8080/"
        },
        "id": "bmDZNXIWCUAG",
        "outputId": "19741470-6b69-48e4-8bc5-213adba973ac"
      },
      "execution_count": 26,
      "outputs": [
        {
          "output_type": "stream",
          "name": "stdout",
          "text": [
            "50\n"
          ]
        }
      ]
    },
    {
      "cell_type": "code",
      "source": [
        "#4\n",
        "x=10\n",
        "y=30\n",
        "print(x+y)"
      ],
      "metadata": {
        "colab": {
          "base_uri": "https://localhost:8080/"
        },
        "id": "SD9e0aEZDX_-",
        "outputId": "236b79d4-44b7-4d52-ac3a-742868e01944"
      },
      "execution_count": 27,
      "outputs": [
        {
          "output_type": "stream",
          "name": "stdout",
          "text": [
            "40\n"
          ]
        }
      ]
    },
    {
      "cell_type": "code",
      "source": [
        "#5\n",
        "x=50\n",
        "y=100\n",
        "z=(x+y)\n",
        "print(z)"
      ],
      "metadata": {
        "colab": {
          "base_uri": "https://localhost:8080/"
        },
        "id": "WKWzfG--DlvT",
        "outputId": "a6f8f9ab-6dc0-40e8-fa05-d5764483c062"
      },
      "execution_count": 28,
      "outputs": [
        {
          "output_type": "stream",
          "name": "stdout",
          "text": [
            "150\n"
          ]
        }
      ]
    },
    {
      "cell_type": "code",
      "source": [
        "#6\n",
        "x=\"Hello World\"\n",
        "print(type(x))\n",
        "x=55\n",
        "print(type(x))\n",
        "x=100.5\n",
        "print(type(x))\n",
        "x=5j\n",
        "print(type(x))\n",
        "x=[\"apple\",\"banana\",\"mango\"]\n",
        "print(type(x))\n",
        "x=(\"apple\",\"banana\",\"mango\")\n",
        "print(type(x))\n",
        "x={\"name\":\"rohan\",\"age\":25}\n",
        "print(type(x))\n",
        "x = {\"apple\", \"banana\", \"mango\"}\n",
        "print(type(x))\n"
      ],
      "metadata": {
        "colab": {
          "base_uri": "https://localhost:8080/"
        },
        "id": "lo9j-dqND4gN",
        "outputId": "08e71fe9-fcf8-4cf1-cd8f-ed38616e9548"
      },
      "execution_count": 34,
      "outputs": [
        {
          "output_type": "stream",
          "name": "stdout",
          "text": [
            "<class 'str'>\n",
            "<class 'int'>\n",
            "<class 'float'>\n",
            "<class 'complex'>\n",
            "<class 'list'>\n",
            "<class 'tuple'>\n",
            "<class 'dict'>\n",
            "<class 'set'>\n"
          ]
        }
      ]
    },
    {
      "cell_type": "code",
      "source": [
        "#7\n",
        "a=\"This is a python multiline comment\"\n",
        "b=\" written in\"\n",
        "c=\"more that just one line\"\n",
        "print(a, b, c) "
      ],
      "metadata": {
        "colab": {
          "base_uri": "https://localhost:8080/"
        },
        "id": "7zVCWhecF4IE",
        "outputId": "edf3178c-3996-40db-af86-b0f77f0bf776"
      },
      "execution_count": 46,
      "outputs": [
        {
          "output_type": "stream",
          "name": "stdout",
          "text": [
            "This is a python multiline comment  written in more that just one line\n"
          ]
        }
      ]
    },
    {
      "cell_type": "code",
      "source": [
        "#8\n",
        "#leagle variables\n",
        "myname=\"vishu\"\n",
        "print(myname)\n",
        "#illegal variables\n",
        "my-name=\"vishu\"\n",
        "print(my-name)"
      ],
      "metadata": {
        "colab": {
          "base_uri": "https://localhost:8080/",
          "height": 130
        },
        "id": "w1WemJ2pH0Qy",
        "outputId": "64ebdb33-54b2-4ee6-f9f8-f99ed4754267"
      },
      "execution_count": 53,
      "outputs": [
        {
          "output_type": "error",
          "ename": "SyntaxError",
          "evalue": "ignored",
          "traceback": [
            "\u001b[0;36m  File \u001b[0;32m\"<ipython-input-53-4a0568c2c577>\"\u001b[0;36m, line \u001b[0;32m5\u001b[0m\n\u001b[0;31m    my-name=\"vishu\"\u001b[0m\n\u001b[0m                   ^\u001b[0m\n\u001b[0;31mSyntaxError\u001b[0m\u001b[0;31m:\u001b[0m can't assign to operator\n"
          ]
        }
      ]
    },
    {
      "cell_type": "code",
      "source": [
        ""
      ],
      "metadata": {
        "id": "7tL8ywfaJaEx"
      },
      "execution_count": null,
      "outputs": []
    },
    {
      "cell_type": "code",
      "source": [
        "#9\n",
        "x = \"Greetings of the day\"\n",
        "print(len(x))"
      ],
      "metadata": {
        "colab": {
          "base_uri": "https://localhost:8080/"
        },
        "id": "6m2AFzHSI8i3",
        "outputId": "8199fc73-cd92-4811-af3b-a1e90ba07a2b"
      },
      "execution_count": 54,
      "outputs": [
        {
          "output_type": "stream",
          "name": "stdout",
          "text": [
            "20\n"
          ]
        }
      ]
    },
    {
      "cell_type": "code",
      "source": [
        "#10\n",
        "txt = \"Hello Netzwerk Academy\"\n",
        "print(txt[0])"
      ],
      "metadata": {
        "colab": {
          "base_uri": "https://localhost:8080/"
        },
        "id": "xKYShrFoJG2W",
        "outputId": "f89b66eb-6c90-44b2-9b9f-f84adca5cf41"
      },
      "execution_count": 56,
      "outputs": [
        {
          "output_type": "stream",
          "name": "stdout",
          "text": [
            "H\n"
          ]
        }
      ]
    },
    {
      "cell_type": "code",
      "source": [
        "#11\n",
        "txt = \"Hello Netzwerk Academy\"\n",
        "print(txt[2:4])"
      ],
      "metadata": {
        "colab": {
          "base_uri": "https://localhost:8080/"
        },
        "id": "fPANDXqXJqYR",
        "outputId": "da15a273-5aa3-4f27-8b98-f6dd365a8f4a"
      },
      "execution_count": 58,
      "outputs": [
        {
          "output_type": "stream",
          "name": "stdout",
          "text": [
            "ll\n"
          ]
        }
      ]
    }
  ]
}